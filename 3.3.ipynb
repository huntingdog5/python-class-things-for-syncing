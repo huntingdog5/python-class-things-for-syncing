{
 "cells": [
  {
   "cell_type": "raw",
   "id": "2ea23b4c-5063-44a4-ba90-facb67e205eb",
   "metadata": {},
   "source": [
    "Score Grade\n",
    ">= 0.9 A\n",
    ">= 0.8 B\n",
    ">= 0.7 C\n",
    ">= 0.6 D\n",
    "< 0.6 F\n",
    "If the user enters a value out of range, print a suitable error message and exit. For the test, enter a score of 0.85. "
   ]
  },
  {
   "cell_type": "code",
   "execution_count": null,
   "id": "e6833cd1-2288-418e-b7e6-8e0bb4b3159d",
   "metadata": {},
   "outputs": [],
   "source": [
    "score = input(\"Enter Score: \")\n",
    "try:\n",
    " fltscore = float(score)\n",
    " if fltscore < 0 or fltscore > 1: \n",
    "  print('flop')\n",
    " else:\n",
    "  if fltscore < 0.6:\n",
    "   print('F')\n",
    "  elif fltscore >= .9:\n",
    "   print('A')\n",
    "  elif fltscore >= .8 and fltscore not >= .9:\n",
    "   print('B') \n",
    "  elif fltscore >= .7 and fltscore not >= .8:\n",
    "   print('C')\n",
    "  else fltscore >= .6 and fltscore not >= .7:\n",
    "   print('D')\n",
    "    \n",
    "\n",
    "except:\n",
    " print('please enter numerical value 0 to 1')\n",
    "\n"
   ]
  },
  {
   "cell_type": "raw",
   "id": "2efe858f-f198-4679-a156-c9707351a60b",
   "metadata": {},
   "source": [
    "So python doesnt need to be handheld with defining above said value so the and part of lines 9,11,13,15 is not needed"
   ]
  },
  {
   "cell_type": "code",
   "execution_count": 17,
   "id": "0da03a4d-bc89-4b61-a9ca-426af81ad02f",
   "metadata": {},
   "outputs": [
    {
     "ename": "KeyboardInterrupt",
     "evalue": "",
     "output_type": "error",
     "traceback": [
      "\u001b[0;31m---------------------------------------------------------------------------\u001b[0m\n\u001b[0;31mKeyboardInterrupt\u001b[0m                         Traceback (most recent call last)",
      "File \u001b[0;34m/home/howard/anaconda3/lib/python3.8/site-packages/IPython/core/interactiveshell.py\u001b[0m, in \u001b[0;32mrun_code\u001b[0m:\nLine \u001b[0;34m3437\u001b[0m:  exec(code_obj, \u001b[36mself\u001b[39;49;00m.user_global_ns, \u001b[36mself\u001b[39;49;00m.user_ns)\n",
      "\u001b[0;31mKeyboardInterrupt\u001b[0m: \n\u001b[0;31m---------------------------------------------------------------------------\u001b[0m"
     ]
    },
    {
     "name": "stdin",
     "output_type": "stream",
     "text": [
      "Enter Score:  nah\n"
     ]
    }
   ],
   "source": [
    "score = input(\"Enter Score: \")\n",
    "try:\n",
    " fltscore = float(score)\n",
    " if fltscore < 0 or fltscore > 1: \n",
    "  print('Hi flop try again')\n",
    " else:\n",
    "  if fltscore < 0.6:\n",
    "   print('F')\n",
    "  elif fltscore >= 0.9:\n",
    "   print('A')\n",
    "  elif fltscore >= 0.8:\n",
    "   print('B') \n",
    "  elif fltscore >= 0.7:\n",
    "   print('C')\n",
    "  elif fltscore >= 0.6:\n",
    "   print('D')\n",
    "    \n",
    "\n",
    "except:\n",
    " print('please enter numerical value 0 to 1')"
   ]
  },
  {
   "cell_type": "code",
   "execution_count": null,
   "id": "c8b44452-6c69-45ae-8a1c-07d89aeb6bd2",
   "metadata": {},
   "outputs": [],
   "source": []
  }
 ],
 "metadata": {
  "kernelspec": {
   "display_name": "Python 3.8 (XPython)",
   "language": "python",
   "name": "xpython"
  },
  "language_info": {
   "file_extension": ".py",
   "mimetype": "text/x-python",
   "name": "python",
   "version": "3.8.10"
  }
 },
 "nbformat": 4,
 "nbformat_minor": 5
}
