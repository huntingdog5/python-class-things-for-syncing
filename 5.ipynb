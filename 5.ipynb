{
 "cells": [
  {
   "cell_type": "raw",
   "id": "219a2d20-2926-4a17-8012-d7bdcc628efb",
   "metadata": {},
   "source": [
    "Exercise 1: Write a program which repeatedly reads numbers until the user enters \"done\". Once \"done\" is entered, print out the total, count, and average of the numbers. If the user enters anything other than a number, detect their mistake using try and except and print an error message and skip to the next number."
   ]
  },
  {
   "cell_type": "code",
   "execution_count": 15,
   "id": "3d325047-27cf-4732-8d93-f5388f247da2",
   "metadata": {
    "collapsed": true,
    "jupyter": {
     "outputs_hidden": true
    },
    "tags": []
   },
   "outputs": [
    {
     "name": "stdin",
     "output_type": "stream",
     "text": [
      ">>>>owo>>>>  nyah\n",
      ">>>>owo>>>>  100\n"
     ]
    },
    {
     "name": "stdout",
     "output_type": "stream",
     "text": [
      "100\n"
     ]
    },
    {
     "name": "stdin",
     "output_type": "stream",
     "text": [
      ">>>>owo>>>>  -69\n"
     ]
    },
    {
     "name": "stdout",
     "output_type": "stream",
     "text": [
      "-69\n"
     ]
    },
    {
     "name": "stdin",
     "output_type": "stream",
     "text": [
      ">>>>owo>>>>  -35078107915791079959945781247104895\n"
     ]
    },
    {
     "name": "stdout",
     "output_type": "stream",
     "text": [
      "-35078107915791079959945781247104895\n"
     ]
    },
    {
     "name": "stdin",
     "output_type": "stream",
     "text": [
      ">>>>owo>>>>  781280478017408502091458\n"
     ]
    },
    {
     "name": "stdout",
     "output_type": "stream",
     "text": [
      "781280478017408502091458\n"
     ]
    },
    {
     "name": "stdin",
     "output_type": "stream",
     "text": [
      ">>>>owo>>>>  done\n"
     ]
    },
    {
     "name": "stdout",
     "output_type": "stream",
     "text": [
      "Done bitch\n",
      "Count = 4 sum = -3.50781079150098e+34 avg = -8.76952697875245e+33\n"
     ]
    }
   ],
   "source": [
    "num = 0\n",
    "fval = 0\n",
    "total = 0\n",
    "avg = 0\n",
    "while True:\n",
    " line = input('>>>>owo>>>> ')\n",
    " try:\n",
    "  fval = float(line)\n",
    "  num = num + 1\n",
    "  total = fval + total\n",
    " except:\n",
    "  if line == 'done':\n",
    "   avg = total/num\n",
    "   break\n",
    "  else:\n",
    "   continue\n",
    " print(line)\n",
    "print('Done bitch')\n",
    "print('Count =',num, 'sum =',total,\"avg =\",avg)"
   ]
  },
  {
   "cell_type": "raw",
   "id": "20fa8fcc-9768-4085-95c4-ac4ff2f141c9",
   "metadata": {},
   "source": [
    "Exercise 2: Write another program that prompts for a list of numbers as above and at the end prints out both the maximum and minimum of the numbers instead of the average."
   ]
  },
  {
   "cell_type": "raw",
   "id": "9130f828-f482-456e-b249-f66f0ba02c9f",
   "metadata": {},
   "source": [
    "https://stackoverflow.com/questions/4544630/automatically-growing-lists-in-python"
   ]
  },
  {
   "cell_type": "code",
   "execution_count": 2,
   "id": "ea03c6d7-c8fd-4130-8e35-28615cfd61ee",
   "metadata": {
    "collapsed": true,
    "jupyter": {
     "outputs_hidden": true
    },
    "tags": []
   },
   "outputs": [
    {
     "name": "stdin",
     "output_type": "stream",
     "text": [
      ">>>>owo>>>>  1\n",
      ">>>>owo>>>>  2\n",
      ">>>>owo>>>>  3\n",
      ">>>>owo>>>>  4\n",
      ">>>>owo>>>>  5\n",
      ">>>>owo>>>>  6\n",
      ">>>>owo>>>>  7\n",
      ">>>>owo>>>>  8\n",
      ">>>>owo>>>>  9\n",
      ">>>>owo>>>>  done\n"
     ]
    },
    {
     "name": "stdout",
     "output_type": "stream",
     "text": [
      "['1', '2', '3', '4', '5', '6', '7', '8', '9']\n",
      "1\n"
     ]
    }
   ],
   "source": [
    "#using above to get a list\n",
    "#will iterate to get max and mine later\n",
    "fval = 0\n",
    "listA = []\n",
    "#elm num\n",
    "while True:\n",
    " line = input('>>>>owo>>>> ')\n",
    " if line == 'done':\n",
    "   break\n",
    "\n",
    " fval = float(line)\n",
    " listA.append(line) # adding the element\n",
    "\n",
    " # if largest is none or fval > largest:\n",
    " #  largest = fval\n",
    " # elif smallest is none or fval < smallest:\n",
    " #  smallest = fval\n",
    " \n",
    "print(listA)\n",
    "#print('Maximum is', largest)\n",
    "#print(\"Minimum is\",smallest)"
   ]
  },
  {
   "cell_type": "code",
   "execution_count": null,
   "id": "f684fd28-6547-42bd-b3eb-4839a2514b34",
   "metadata": {
    "collapsed": true,
    "jupyter": {
     "outputs_hidden": true
    },
    "tags": []
   },
   "outputs": [
    {
     "name": "stdin",
     "output_type": "stream",
     "text": [
      ">>>>owo>>>>  1\n"
     ]
    },
    {
     "name": "stdout",
     "output_type": "stream",
     "text": [
      "Maximum is 1\n",
      "Minimum is 1\n"
     ]
    },
    {
     "name": "stdin",
     "output_type": "stream",
     "text": [
      ">>>>owo>>>>  2\n"
     ]
    },
    {
     "name": "stdout",
     "output_type": "stream",
     "text": [
      "Maximum is 2\n",
      "Minimum is 1\n"
     ]
    },
    {
     "name": "stdin",
     "output_type": "stream",
     "text": [
      ">>>>owo>>>>  3\n"
     ]
    },
    {
     "name": "stdout",
     "output_type": "stream",
     "text": [
      "Maximum is 3\n",
      "Minimum is 1\n"
     ]
    },
    {
     "name": "stdin",
     "output_type": "stream",
     "text": [
      ">>>>owo>>>>  4\n"
     ]
    },
    {
     "name": "stdout",
     "output_type": "stream",
     "text": [
      "Maximum is 4\n",
      "Minimum is 1\n"
     ]
    },
    {
     "name": "stdin",
     "output_type": "stream",
     "text": [
      ">>>>owo>>>>  5\n"
     ]
    },
    {
     "name": "stdout",
     "output_type": "stream",
     "text": [
      "Maximum is 5\n",
      "Minimum is 1\n"
     ]
    },
    {
     "name": "stdin",
     "output_type": "stream",
     "text": [
      ">>>>owo>>>>  6\n"
     ]
    },
    {
     "name": "stdout",
     "output_type": "stream",
     "text": [
      "Maximum is 6\n",
      "Minimum is 1\n"
     ]
    },
    {
     "name": "stdin",
     "output_type": "stream",
     "text": [
      ">>>>owo>>>>  7\n"
     ]
    },
    {
     "name": "stdout",
     "output_type": "stream",
     "text": [
      "Maximum is 7\n",
      "Minimum is 1\n"
     ]
    }
   ],
   "source": [
    "smallest = None\n",
    "largest = None\n",
    "while True:\n",
    " line = input('>>>>owo>>>> ')\n",
    " if line == 'done': \n",
    "  break\n",
    " try:\n",
    "  Ival = int(line) \n",
    " except:\n",
    "  print('Invalid Input')\n",
    "  continue\n",
    " if smallest is None:\n",
    "  smallest = Ival\n",
    " elif smallest > Ival: \n",
    "  smallest = Ival \n",
    "\n",
    " if largest is None:\n",
    "  largest = Ival   \n",
    " elif Ival > largest:\n",
    "  largest = Ival\n",
    "\n",
    "\n",
    "\n",
    "\n",
    "\n",
    "\n",
    "\n",
    " print('Maximum is',largest)\n",
    " print('Minimum is',smallest)\n",
    "\n",
    " \n",
    "print('Maximum is',largest)\n",
    "print('Minimum is',smallest)"
   ]
  },
  {
   "cell_type": "code",
   "execution_count": 10,
   "id": "093b4a47-b1fd-4969-8a8b-5ca428564d65",
   "metadata": {
    "collapsed": true,
    "jupyter": {
     "outputs_hidden": true
    },
    "tags": []
   },
   "outputs": [
    {
     "name": "stdin",
     "output_type": "stream",
     "text": [
      ">>>>owo>>>>  7\n"
     ]
    },
    {
     "name": "stdout",
     "output_type": "stream",
     "text": [
      "[7]\n"
     ]
    },
    {
     "name": "stdin",
     "output_type": "stream",
     "text": [
      ">>>>owo>>>>  .1\n"
     ]
    },
    {
     "name": "stdout",
     "output_type": "stream",
     "text": [
      "Invalid Input\n"
     ]
    },
    {
     "name": "stdin",
     "output_type": "stream",
     "text": [
      ">>>>owo>>>>  2\n"
     ]
    },
    {
     "name": "stdout",
     "output_type": "stream",
     "text": [
      "[7, 2]\n"
     ]
    },
    {
     "name": "stdin",
     "output_type": "stream",
     "text": [
      ">>>>owo>>>>  bob\n"
     ]
    },
    {
     "name": "stdout",
     "output_type": "stream",
     "text": [
      "Invalid Input\n"
     ]
    },
    {
     "name": "stdin",
     "output_type": "stream",
     "text": [
      ">>>>owo>>>>  10\n"
     ]
    },
    {
     "name": "stdout",
     "output_type": "stream",
     "text": [
      "[7, 2, 10]\n"
     ]
    },
    {
     "name": "stdin",
     "output_type": "stream",
     "text": [
      ">>>>owo>>>>  4\n"
     ]
    },
    {
     "name": "stdout",
     "output_type": "stream",
     "text": [
      "[7, 2, 10, 4]\n"
     ]
    },
    {
     "name": "stdin",
     "output_type": "stream",
     "text": [
      ">>>>owo>>>>  done\n"
     ]
    },
    {
     "name": "stdout",
     "output_type": "stream",
     "text": [
      "Maximum is 10\n",
      "Minimum is 2\n"
     ]
    }
   ],
   "source": [
    "listA = []\n",
    "fval = 0\n",
    "largest = None\n",
    "smallest = None\n",
    "while True:\n",
    " line = input('>>>>owo>>>> ')\n",
    " if line == 'done': \n",
    "  break\n",
    " try:\n",
    "  Ival = int(line)\n",
    "  listA.append(Ival)\n",
    "  print(listA)\n",
    "  \n",
    " except:\n",
    "  print('Invalid Input')\n",
    "  continue\n",
    "largest = max(listA)\n",
    "smallest = min(listA)\n",
    "print('Maximum is',largest)\n",
    "print('Minimum is',smallest)"
   ]
  },
  {
   "cell_type": "code",
   "execution_count": null,
   "id": "ffe0e812-a255-4b40-93f7-b8710c1e7cde",
   "metadata": {},
   "outputs": [],
   "source": [
    " 7, 2, bob, 10, and 4 "
   ]
  }
 ],
 "metadata": {
  "kernelspec": {
   "display_name": "Python 3.8 (XPython)",
   "language": "python",
   "name": "xpython"
  },
  "language_info": {
   "file_extension": ".py",
   "mimetype": "text/x-python",
   "name": "python",
   "version": "3.8.10"
  }
 },
 "nbformat": 4,
 "nbformat_minor": 5
}
