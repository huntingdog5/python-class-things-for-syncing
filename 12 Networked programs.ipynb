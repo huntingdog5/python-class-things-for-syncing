{
 "cells": [
  {
   "cell_type": "markdown",
   "source": [
    "Finally taking notes in the notebook after 12 chapters"
   ],
   "metadata": {}
  },
  {
   "cell_type": "markdown",
   "source": [
    "Sockets can provide two way connection instead of just reading the file. \n",
    "“import socket\n",
    "\n",
    "mysock = socket.socket(socket.AF_INET, socket.SOCK_STREAM)\n",
    "mysock.connect(('data.pr4e.org', 80))\n",
    "cmd = 'GET http://data.pr4e.org/romeo.txt HTTP/1.0\\r\\n\\r\\n'.encode()”\n",
    "\n",
    "Excerpt From: Charles R Severance. “Python for Everybody.” Apple Books. \n",
    "\n",
    "connects to to port 80 of the webserver then uses get to request data \\r\\n\\r\\n signifies and oel and that there is nothing between the two."
   ],
   "metadata": {}
  },
  {
   "cell_type": "markdown",
   "source": [
    "Second part of the program \n",
    "“while True:\n",
    "    # gets loops through getting data in 512 char chunks until there is no more\n",
    "    data = mysock.recv(512)\n",
    "    if len(data) < 1:\n",
    "        break\n",
    "    print(data.decode(),end='')\n",
    "\n",
    "mysock.close()\n",
    "\n",
    "# Code: http://www.py4e.com/code3/socket1.py”\n",
    "\n",
    "\n",
    "outputs a header then the data \n",
    "header contains date https version\n",
    "content length, and type, connection .\n",
    "\n",
    "http uses bytes not strings\n",
    "\n",
    "b'insert text' and 'insert text'.encode end up meaning the same thing to store it as a bytes object."
   ],
   "metadata": {}
  },
  {
   "cell_type": "markdown",
   "source": [],
   "metadata": {}
  },
  {
   "cell_type": "markdown",
   "source": [],
   "metadata": {}
  }
 ],
 "metadata": {
  "orig_nbformat": 4,
  "language_info": {
   "name": "python"
  }
 },
 "nbformat": 4,
 "nbformat_minor": 2
}