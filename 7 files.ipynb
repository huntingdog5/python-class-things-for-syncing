{
 "cells": [
  {
   "cell_type": "raw",
   "id": "e535ac43-0350-4a18-8507-fef141eb0077",
   "metadata": {},
   "source": [
    "Files need to be in scripts directory else call them using specific path ie if mbox.txt is in downloads it wont work becuase python for lab is in direcotry anaconda\n",
    "\n",
    "\n",
    "open('/home/howard/Downloads/mbox.txt') would be apropriate\n",
    "or /home/howard/Downloads/mbox-short.txt"
   ]
  },
  {
   "cell_type": "raw",
   "id": "c2d7048c-2bf4-4bf6-84d4-6a8e8e5c6a82",
   "metadata": {
    "jupyter": {
     "source_hidden": true
    },
    "tags": []
   },
   "source": [
    "If you can see i found how to format things\n",
    "numbi = open('/home/howard/Downloads/mbox.txt')\n",
    "count = 0 \n",
    "for line in numbi:\n",
    " count = count + 1\n",
    "print('Line count is {}'.format(count))"
   ]
  },
  {
   "cell_type": "raw",
   "id": "b62f1549-38c0-4e4c-ae86-7f227e02d824",
   "metadata": {
    "jupyter": {
     "source_hidden": true
    },
    "tags": []
   },
   "source": [
    "numbi = open('/home/howard/Downloads/mbox.txt')\n",
    "count = 0 \n",
    "for line in numbi:\n",
    " count = count + 1\n",
    "print('Line count is',count)"
   ]
  },
  {
   "cell_type": "raw",
   "id": "fad4ad92-deb4-4e7b-b2f0-63e463cae285",
   "metadata": {
    "jupyter": {
     "source_hidden": true
    },
    "tags": []
   },
   "source": [
    "numbi = open('/home/howard/Downloads/mbox.txt')\n",
    "count = 0 \n",
    "for line in numbi:\n",
    " count = count + 1\n",
    "print('Line count is %d' % (count))"
   ]
  },
  {
   "cell_type": "raw",
   "id": "9c175f00-ade2-4f78-8686-f1c85d53687a",
   "metadata": {
    "jupyter": {
     "source_hidden": true
    },
    "tags": []
   },
   "source": [
    "#The info printer may break things\n",
    "def path_enter():   \n",
    " path = input('Enter file or path to file \\n')\n",
    " if path == 'yoink':\n",
    "  print('you have been yoinked')\n",
    " elif path == 'stop':\n",
    "  return None \n",
    " else:\n",
    "  try: \n",
    "   file = open(path)\n",
    "   return file\n",
    "  except:\n",
    "   print('File doesnt exist try again')\n",
    "   path_enter()\n",
    "#thing = path_enter()\n",
    "#print('hi file with info such as {}'.format(thing))"
   ]
  },
  {
   "cell_type": "raw",
   "id": "642c9816-ef32-438e-bbad-42ce0430c7c5",
   "metadata": {
    "jupyter": {
     "source_hidden": true
    },
    "tags": []
   },
   "source": [
    "Just dont it will crash\n",
    "count = 0\n",
    "trigger = False\n",
    "try:\n",
    " for line in path_enter():\n",
    "  print(line.upper)\n",
    "  count = count + 1\n",
    "  triggered = True\n",
    "except:\n",
    " print('func path_enter has input of stop')\n",
    "if trigger is True:\n",
    " print('Congrats')"
   ]
  },
  {
   "cell_type": "raw",
   "id": "decb4cf2-55ba-4815-b441-76a41e6824e5",
   "metadata": {
    "tags": []
   },
   "source": [
    "#worked 7.1\n",
    "while True: \n",
    " path = '/home/howard/Downloads/mbox-short.txt'   \n",
    " #path = input(\"Enter file or path to file \\n\")\n",
    " try:\n",
    "  bonk = open(path)\n",
    "  break\n",
    " except:\n",
    "  print('invalid file try again')\n",
    "\n",
    "for line in bonk:\n",
    " try:\n",
    "  line = line.upper()\n",
    "  print(line)\n",
    " except:\n",
    "  print('error')\n",
    "    \n",
    "  "
   ]
  },
  {
   "cell_type": "code",
   "execution_count": 4,
   "id": "0647cd8c-778d-4b49-a284-112bda01b01f",
   "metadata": {},
   "outputs": [
    {
     "name": "stdout",
     "output_type": "stream",
     "text": [
      "Average spam confidence: 0.8941280467445736\n"
     ]
    }
   ],
   "source": [
    "while True: \n",
    " path = 'mbox-short.txt'\n",
    "# path = '/home/howard/Downloads/mbox.txt'\n",
    "# path = input(\"Enter file or path to file \\n\")\n",
    "# path = 'mbox.txt'\n",
    " try:\n",
    "  bonk = open(path)\n",
    "  break\n",
    " except:\n",
    "  print('invalid file try again')\n",
    "count = 0\n",
    "lineAmmount = 0\n",
    "for line in bonk:\n",
    " line = line.rstrip()\n",
    " if line.startswith('X-DSPAM-Confidence:'):\n",
    "  dec = line.find('.')\n",
    "  number = float(line[dec - 1:])\n",
    "  count = count + number\n",
    "  lineAmmount = lineAmmount + 1\n",
    "print('Average spam confidence: {}'.format(count/lineAmmount))"
   ]
  },
  {
   "cell_type": "code",
   "execution_count": null,
   "id": "0194c1a3-5ddb-4992-a39d-30ed1767fdab",
   "metadata": {},
   "outputs": [],
   "source": []
  }
 ],
 "metadata": {
  "kernelspec": {
   "display_name": "Python 3",
   "language": "python",
   "name": "python3"
  },
  "language_info": {
   "codemirror_mode": {
    "name": "ipython",
    "version": 3
   },
   "file_extension": ".py",
   "mimetype": "text/x-python",
   "name": "python",
   "nbconvert_exporter": "python",
   "pygments_lexer": "ipython3",
   "version": "3.8.8"
  }
 },
 "nbformat": 4,
 "nbformat_minor": 5
}
