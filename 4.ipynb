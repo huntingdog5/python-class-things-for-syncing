{
 "cells": [
  {
   "cell_type": "raw",
   "id": "17f52488-af5a-4c0e-81ad-34fe98ddd926",
   "metadata": {},
   "source": [
    "4.6 Write a program to prompt the user for hours and rate per hour using input to compute gross pay. Pay should be the normal rate for hours up to 40 and time-and-a-half for the hourly rate for all hours worked above 40 hours. Put the logic to do the computation of pay in a function called computepay() and use the function to do the computation. The function should return a value. Use 45 hours and a rate of 10.50 per hour to test the program (the pay should be 498.75). You should use input to read a string and float() to convert the string to a number. Do not worry about error checking the user input unless you want to - you can assume the user types numbers properly. Do not name your variable sum or use the sum() function. "
   ]
  },
  {
   "cell_type": "raw",
   "id": "839f3d78-d935-4efe-b131-81bbbf3f410b",
   "metadata": {},
   "source": [
    "VERSION OF THINGS FOR PRIOR\n",
    "\n",
    "\n",
    "hrs = input(\"Enter hours: \")\n",
    "hrt = input(\"ENTER THE PAY: \")\n",
    "\n",
    "#if statements to check if hours is above then do the math for payscale\n",
    "try:\n",
    " h = float(hrs)\n",
    " rt = float(hrt)\n",
    " if h<=40:\n",
    "  pay = h*rt  \n",
    " else:\n",
    "  pay = (rt*1.5)*(h-40)+40*rt\n",
    " print(pay)\n",
    "except:\n",
    " print(\"hi flop enter an actual number\")"
   ]
  },
  {
   "cell_type": "code",
   "execution_count": 8,
   "id": "119a031c-2dda-4367-881a-fb1a1a0c0b37",
   "metadata": {},
   "outputs": [
    {
     "name": "stdin",
     "output_type": "stream",
     "text": [
      "Enter Hours: 45\n",
      "ENTER THE PAY:  10.5\n"
     ]
    },
    {
     "name": "stdout",
     "output_type": "stream",
     "text": [
      "Pay 498.75\n"
     ]
    }
   ],
   "source": [
    "def computepay(h, r): \n",
    " if h<=40:\n",
    "  total = h*r  \n",
    " else:\n",
    "  total = (r*1.5)*(h-40)+40*r\n",
    " return total\n",
    "\n",
    "hrs = input(\"Enter Hours:\")\n",
    "rt = input(\"ENTER THE PAY: \")\n",
    "\n",
    "p = computepay(float(hrs), float(rt))\n",
    "print(\"Pay\", p)"
   ]
  },
  {
   "cell_type": "code",
   "execution_count": 1,
   "id": "1a1a4cc4-2ce9-406e-833b-fc3aa587c2e2",
   "metadata": {},
   "outputs": [
    {
     "name": "stdout",
     "output_type": "stream",
     "text": [
      "Hello\n"
     ]
    }
   ],
   "source": [
    "def stuff():\n",
    "    print('Hello')\n",
    "    return\n",
    "    print('World')\n",
    " \n",
    "stuff()"
   ]
  },
  {
   "cell_type": "code",
   "execution_count": null,
   "id": "ded9917d-ef21-46ba-83da-9a332e5112ca",
   "metadata": {},
   "outputs": [],
   "source": []
  }
 ],
 "metadata": {
  "kernelspec": {
   "display_name": "Python 3.8 (XPython)",
   "language": "python",
   "name": "xpython"
  },
  "language_info": {
   "file_extension": ".py",
   "mimetype": "text/x-python",
   "name": "python",
   "version": "3.8.10"
  }
 },
 "nbformat": 4,
 "nbformat_minor": 5
}
