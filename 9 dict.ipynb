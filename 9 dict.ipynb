{
 "cells": [
  {
   "source": [
    "Exercise 1: Download a copy of the file www.py4e.com/code3/words.txt\n",
    "\n",
    "Write a program that reads the words in words.txt and stores them as keys in a dictionary. It doesn’t matter what the values are. Then you can use the in operator as a fast way to check whether a string is in the dictionary."
   ],
   "cell_type": "markdown",
   "metadata": {}
  },
  {
   "cell_type": "code",
   "execution_count": 10,
   "id": "505532f6-3f88-4506-8d10-f59381947e69",
   "metadata": {},
   "outputs": [],
   "source": [
    "wordbank = dict()\n",
    "fhand = open('words.txt')\n",
    "for line in fhand:\n",
    "    words = line.split()\n",
    "   # print('Debug:', words)\n",
    "    for thing in words:\n",
    "        if thing not in wordbank : wordbank[thing] = ''\n",
    "   #    print('Debug:', wordbank)\n",
    "          \n"
   ]
  },
  {
   "source": [
    "Exercise 2: Write a program that categorizes each mail message by which day of the week the commit was done. To do this look for lines that start with “From”, then look for the third word and keep a running count of each of the days of the week. At the end of the program print out the contents of your dictionary (order does not matter).\n",
    "\n",
    "Sample Line:\n",
    "\n",
    "From stephen.marquard@uct.ac.za Sat Jan  5 09:14:16 2008\n",
    "\n",
    "Sample Execution:\n",
    "\n",
    "python dow.py\n",
    "Enter a file name: mbox-short.txt\n",
    "{'Fri': 20, 'Thu': 6, 'Sat': 1}"
   ],
   "cell_type": "markdown",
   "metadata": {}
  },
  {
   "cell_type": "code",
   "execution_count": 13,
   "metadata": {
    "tags": []
   },
   "outputs": [
    {
     "output_type": "stream",
     "name": "stdout",
     "text": [
      "{'Sat': 1, 'Fri': 20, 'Thu': 6}\n"
     ]
    }
   ],
   "source": [
    "days = dict()\n",
    "# prmpt = input('Enter file name')\n",
    "prmpt = 'mbox-short.txt'\n",
    "if prmpt == '':\n",
    "    filepath = 'mbox-short.txt'\n",
    "else:\n",
    "   try:\n",
    "       filepath = prmpt\n",
    "   except:\n",
    "       print('file cant be opened defaulting to sample file')\n",
    "       filepath = 'mbox-short.txt'\n",
    "file = open(filepath)\n",
    "# print(file)\n",
    "\n",
    "for line in file: \n",
    "    words = line.split()\n",
    "    if len(words) == 0 or words[0] != 'From' or len(words) < 3 : continue \n",
    "    else: \n",
    "        # print(words)\n",
    "        days[words[2]] = days.get(words[2],0) + 1\n",
    "print(days)"
   ]
  },
  {
   "source": [
    "\n",
    "\n",
    "Exercise 3: Write a program to read through a mail log, build a histogram using a dictionary to count how many messages have come from each email address, and print the dictionary.\n",
    "\n",
    "Enter file name: mbox-short.txt\n",
    "{'gopal.ramasammycook@gmail.com': 1, 'louis@media.berkeley.edu': 3,\n",
    "'cwen@iupui.edu': 5, 'antranig@caret.cam.ac.uk': 1,\n",
    "'rjlowe@iupui.edu': 2, 'gsilver@umich.edu': 3,\n",
    "'david.horwitz@uct.ac.za': 4, 'wagnermr@iupui.edu': 1,\n",
    "'zqian@umich.edu': 4, 'stephen.marquard@uct.ac.za': 2,\n",
    "'ray@media.berkeley.edu': 1}\n",
    "\n",
    "\n",
    "\n"
   ],
   "cell_type": "markdown",
   "metadata": {}
  },
  {
   "cell_type": "code",
   "execution_count": 5,
   "metadata": {},
   "outputs": [
    {
     "output_type": "stream",
     "name": "stdout",
     "text": [
      "{'stephen.marquard@uct.ac.za': 114, 'louis@media.berkeley.edu': 165, 'zqian@umich.edu': 184, 'rjlowe@iupui.edu': 94, 'cwen@iupui.edu': 225, 'gsilver@umich.edu': 144, 'wagnermr@iupui.edu': 49, 'antranig@caret.cam.ac.uk': 55, 'gopal.ramasammycook@gmail.com': 60, 'david.horwitz@uct.ac.za': 216, 'ray@media.berkeley.edu': 53}\nzqian@umich.edu\n"
     ]
    }
   ],
   "source": [
    "senders = dict()\n",
    "\n",
    "prmpt = input('Enter file name')\n",
    "# prmpt = 'mbox-short.txt'\n",
    "if prmpt == '':\n",
    "    filepath = 'mbox-short.txt'\n",
    "else:\n",
    "   try:\n",
    "       filepath = prmpt\n",
    "   except:\n",
    "       print('file cant be opened defaulting to sample file')\n",
    "       filepath = 'mbox-short.txt'\n",
    "file = open(filepath)\n",
    "# print(file)\n",
    "\n",
    "for line in file:\n",
    "    # print(line)\n",
    "    # for words in line:\n",
    "    words = line.split()\n",
    "    if len(words) == 0 or words[0] != 'From' or len(words) < 3 : continue \n",
    "        \n",
    "    else: \n",
    "        # print(words)\n",
    "        senders[words[1]] = senders.get(words[1],0) + 1\n",
    "\n",
    "\n",
    "for key in senders:\n",
    "    print(key, senders[key])"
   ]
  },
  {
   "source": [
    "Exercise 4: Add code to the above program to figure out who has the most messages in the file. After all the data has been read and the dictionary has been created, look through the dictionary using a maximum loop (see Chapter 5: Maximum and minimum loops) to find who has the most messages and print how many messages the person has.\n",
    "\n",
    "Enter a file name: mbox-short.txt\n",
    "cwen@iupui.edu 5\n",
    "\n",
    "Enter a file name: mbox.txt\n",
    "zqian@umich.edu 195"
   ],
   "cell_type": "markdown",
   "metadata": {}
  },
  {
   "cell_type": "code",
   "execution_count": 9,
   "metadata": {
    "tags": []
   },
   "outputs": [
    {
     "output_type": "stream",
     "name": "stdout",
     "text": [
      "cwen@iupui.edu 5\n"
     ]
    }
   ],
   "source": [
    "senders = dict()\n",
    "\n",
    "prmpt = input('Enter file name')\n",
    "# prmpt = 'mbox-short.txt'\n",
    "if prmpt == '':\n",
    "    filepath = 'mbox-short.txt'\n",
    "else:\n",
    "   try:\n",
    "       filepath = prmpt\n",
    "   except:\n",
    "       print('file cant be opened defaulting to sample file')\n",
    "       filepath = 'mbox-short.txt'\n",
    "file = open(filepath)\n",
    "# print(file)\n",
    "\n",
    "for line in file:\n",
    "    # print(line)\n",
    "    # for words in line:\n",
    "    words = line.split()\n",
    "    if len(words) == 0 or words[0] != 'From' or len(words) < 3 : \n",
    "            continue \n",
    "        \n",
    "    else: \n",
    "        # print(words)\n",
    "        senders[words[1]] = senders.get(words[1],0) + 1\n",
    "\n",
    "\n",
    "bSd = None\n",
    "bKv = None\n",
    "\n",
    "for word,count in senders.items():\n",
    "    if bKv is None or count > bKv:\n",
    "        bKv = count\n",
    "        bSd = word\n",
    "print(bSd,bKv)\n",
    "\n"
   ]
  },
  {
   "source": [
    "Exercise 5: This program records the domain name (instead of the address) where the message was sent from instead of who the mail came from (i.e., the whole email address). At the end of the program, print out the contents of your dictionary.\n",
    "\n",
    "python schoolcount.py\n",
    "Enter a file name: mbox-short.txt\n",
    "{'media.berkeley.edu': 4, 'uct.ac.za': 6, 'umich.edu': 7,\n",
    "'gmail.com': 1, 'caret.cam.ac.uk': 1, 'iupui.edu': 8}"
   ],
   "cell_type": "markdown",
   "metadata": {}
  },
  {
   "cell_type": "code",
   "execution_count": 8,
   "metadata": {},
   "outputs": [
    {
     "output_type": "stream",
     "name": "stdout",
     "text": [
      "{'uct.ac.za': 6, 'media.berkeley.edu': 4, 'umich.edu': 7, 'iupui.edu': 8, 'caret.cam.ac.uk': 1, 'gmail.com': 1}\n"
     ]
    }
   ],
   "source": [
    "domains = dict()\n",
    "# prmpt = input('Enter file name')\n",
    "prmpt = 'mbox-short.txt'\n",
    "if prmpt == '':\n",
    "    filepath = 'mbox-short.txt'\n",
    "else:\n",
    "   try:\n",
    "       filepath = prmpt\n",
    "   except:\n",
    "       print('file cant be opened defaulting to sample file')\n",
    "       filepath = 'mbox-short.txt'\n",
    "file = open(filepath)\n",
    "for line in file:\n",
    "    # print(line)\n",
    "    # for words in line:\n",
    "    words = line.split()\n",
    "    if len(words) == 0 or words[0] != 'From' or len(words) < 3 : \n",
    "            continue   \n",
    "    else: \n",
    "        bebe = words[1].find(\"@\")\n",
    "        domains[words[1][bebe+1:]] = domains.get(words[1][bebe+1:],0) + 1\n",
    "print(domains)"
   ]
  }
 ],
 "metadata": {
  "kernelspec": {
   "display_name": "Python 3",
   "language": "python",
   "name": "python3"
  },
  "language_info": {
   "codemirror_mode": {
    "name": "ipython",
    "version": 3
   },
   "file_extension": ".py",
   "mimetype": "text/x-python",
   "name": "python",
   "nbconvert_exporter": "python",
   "pygments_lexer": "ipython3",
   "version": "3.8.10-final"
  }
 },
 "nbformat": 4,
 "nbformat_minor": 5
}