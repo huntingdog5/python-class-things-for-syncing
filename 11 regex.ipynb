{
 "metadata": {
  "language_info": {
   "codemirror_mode": {
    "name": "ipython",
    "version": 3
   },
   "file_extension": ".py",
   "mimetype": "text/x-python",
   "name": "python",
   "nbconvert_exporter": "python",
   "pygments_lexer": "ipython3",
   "version": "3.8.8"
  },
  "orig_nbformat": 4,
  "kernelspec": {
   "name": "python3",
   "display_name": "Python 3.8.8 64-bit ('anaconda3': virtualenv)"
  },
  "interpreter": {
   "hash": "1a52a2712b7807f5234166c491c60cb9e1207a1189b3721607003350138475f7"
  }
 },
 "nbformat": 4,
 "nbformat_minor": 2,
 "cells": [
  {
   "source": [
    "“^ Matches the beginning of the line.\n",
    "\n",
    "$ Matches the end of the line.\n",
    "\n",
    ". Matches any character (a wildcard).\n",
    "\n",
    "\\s Matches a whitespace character.\n",
    "\n",
    "\\S Matches a non-whitespace character (opposite of \\s).\n",
    "\n",
    "* Applies to the immediately preceding character(s) and indicates to match zero or more times.\n",
    "\n",
    "*? Applies to the immediately preceding character(s) and indicates to match zero or more times in \"non-greedy mode\".”\n",
    "\n",
    "+ Applies to the immediately preceding character(s) and indicates to match one or more times.\n",
    "\n",
    "+? Applies to the immediately preceding character(s) and indicates to match one or more times in \"non-greedy mode\".\n",
    "\n",
    "? Applies to the immediately preceding character(s) and indicates to match zero or one time.\n",
    "\n",
    "?? Applies to the immediately preceding character(s) and indicates to match zero or one time in \"non-greedy mode\".\n",
    "\n",
    "[aeiou] Matches a single character as long as that character is in the specified set. In this example, it would match \"a\", \"e\", \"i\", \"o\", or \"u\", but no other characters.\n",
    "\n",
    "[a-z0-9] You can specify ranges of characters using the minus sign. This example is a single character that must be a lowercase letter or a digit.\n",
    "\n",
    "[^A-Za-z] When the first character in the set notation is a caret, it inverts the logic. This example matches a single character that is anything other than an uppercase or lowercase letter.\n",
    "\n",
    "( ) When parentheses are added to a regular expression, they are ignored for the purpose of matching, but allow you to extract a particular subset of the matched string rather than the whole string when using findall().\n",
    "\n",
    "\\b Matches[…]”\n",
    "\n",
    "Excerpt From: Charles R Severance. “Python for Everybody.” Apple Books. "
   ],
   "cell_type": "markdown",
   "metadata": {}
  },
  {
   "cell_type": "code",
   "execution_count": 2,
   "metadata": {},
   "outputs": [],
   "source": [
    "import re\n",
    "def fileset():\n",
    "    prmpt = input('enter file name/path /n')\n",
    "    # prmpt = 'mbox-short.txt'\n",
    "    if prmpt == '':\n",
    "        filepath = 'mbox-short.txt'\n",
    "    else:\n",
    "        try:\n",
    "            filepath = prmpt\n",
    "        except:\n",
    "            print('file cant be opened defaulting to sample file')\n",
    "            filepath = 'mbox-short.txt'\n",
    "    return filepath\n"
   ]
  },
  {
   "source": [
    "“Exercise 1: Write a simple program to simulate the operation of the grep command on Unix. Ask the user to enter a regular expression and count the number of lines that matched the regular expression:\n",
    "\n",
    "$ python grep.py\n",
    "Enter a regular expression: ^Author\n",
    "mbox.txt had 1798 lines that matched ^Author\n",
    "\n",
    "$ python grep.py\n",
    "Enter a regular expression: ^X-\n",
    "mbox.txt had 14368 lines that matched ^X-\n",
    "\n",
    "$ python grep.py\n",
    "Enter a regular expression: java\n",
    "mbox.txt had 4175 lines that matched java\n",
    "\n"
   ],
   "cell_type": "markdown",
   "metadata": {}
  },
  {
   "cell_type": "code",
   "execution_count": 3,
   "metadata": {},
   "outputs": [
    {
     "output_type": "stream",
     "name": "stdout",
     "text": [
      "mbox-short.txt had 27 lines that matched ^From:\n"
     ]
    }
   ],
   "source": [
    "count = 0\n",
    "filepath = fileset()\n",
    "file = open(filepath)\n",
    "re_set = input('enter reg expression')\n",
    "for line in file:\n",
    "    line = line.rstrip()\n",
    "    x = re.findall(re_set, line)\n",
    "    if len(x) > 0: \n",
    "        count += 1\n",
    "print ('{} had {} lines that matched {}'.format(filepath,count,re_set))"
   ]
  },
  {
   "source": [
    "“Exercise 2: Write a program to look for lines of the form:\n",
    "\n",
    "New Revision: 39772\n",
    "Extract the number from each of the lines using a regular expression and the findall() method. Compute the average of the numbers and print out the average as an integer.\n",
    "\n",
    "Enter file:mbox.txt\n",
    "38549\n",
    "\n",
    "Enter file:mbox-short.txt\n",
    "39756”\n",
    "\n",
    "Excerpt From: Charles R Severance. “Python for Everybody.” Apple Books. "
   ],
   "cell_type": "markdown",
   "metadata": {}
  },
  {
   "cell_type": "code",
   "execution_count": null,
   "metadata": {},
   "outputs": [],
   "source": []
  }
 ]
}