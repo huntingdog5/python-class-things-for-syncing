{
 "metadata": {
  "language_info": {
   "codemirror_mode": {
    "name": "ipython",
    "version": 3
   },
   "file_extension": ".py",
   "mimetype": "text/x-python",
   "name": "python",
   "nbconvert_exporter": "python",
   "pygments_lexer": "ipython3",
   "version": 3
  },
  "orig_nbformat": 4
 },
 "nbformat": 4,
 "nbformat_minor": 2,
 "cells": [
  {
   "source": [
    "“Exercise 1: Write a simple program to simulate the operation of the grep command on Unix. Ask the user to enter a regular expression and count the number of lines that matched the regular expression:\n",
    "\n",
    "$ python grep.py\n",
    "Enter a regular expression: ^Author\n",
    "mbox.txt had 1798 lines that matched ^Author\n",
    "\n",
    "$ python grep.py\n",
    "Enter a regular expression: ^X-\n",
    "mbox.txt had 14368 lines that matched ^X-\n",
    "\n",
    "$ python grep.py\n",
    "Enter a regular expression: java$\n",
    "mbox.txt had 4175 lines that matched java$\n",
    "”\n",
    "\n",
    "Excerpt From: Charles R Severance. “Python for Everybody.” Apple Books. "
   ],
   "cell_type": "markdown",
   "metadata": {}
  },
  {
   "source": [
    "“Exercise 2: Write a program to look for lines of the form:\n",
    "\n",
    "New Revision: 39772\n",
    "Extract the number from each of the lines using a regular expression and the findall() method. Compute the average of the numbers and print out the average as an integer.\n",
    "\n",
    "Enter file:mbox.txt\n",
    "38549\n",
    "\n",
    "Enter file:mbox-short.txt\n",
    "39756”\n",
    "\n",
    "Excerpt From: Charles R Severance. “Python for Everybody.” Apple Books. "
   ],
   "cell_type": "markdown",
   "metadata": {}
  }
 ]
}