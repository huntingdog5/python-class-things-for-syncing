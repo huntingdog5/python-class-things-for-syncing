{
 "cells": [
  {
   "cell_type": "code",
   "execution_count": 10,
   "id": "95098a35",
   "metadata": {},
   "outputs": [
    {
     "name": "stdout",
     "output_type": "stream",
     "text": [
      "what is thy name?\n",
      "bonk\n",
      "hello bonk ,YOU BITH\n"
     ]
    }
   ],
   "source": [
    "name = input('what is thy name?\\n')\n",
    "print('hello',name,',YOU BITH')"
   ]
  },
  {
   "cell_type": "code",
   "execution_count": 5,
   "id": "6300b1f2",
   "metadata": {
    "scrolled": true
   },
   "outputs": [
    {
     "name": "stdout",
     "output_type": "stream",
     "text": [
      "enter hours: 1\n",
      "enter hours: 2.1\n",
      "2.1\n"
     ]
    }
   ],
   "source": [
    "prompt_hours=('enter hours: ')\n",
    "prompt_rate=('enter hours: ')\n",
    "hours=input(prompt_hours)\n",
    "rate=input(prompt_rate)\n",
    "pay=(int(hours)*float(rate))\n",
    "print(pay)"
   ]
  },
  {
   "cell_type": "code",
   "execution_count": null,
   "id": "a562eb49",
   "metadata": {},
   "outputs": [],
   "source": []
  }
 ],
 "metadata": {
  "kernelspec": {
   "display_name": "Python 3",
   "language": "python",
   "name": "python3"
  },
  "language_info": {
   "codemirror_mode": {
    "name": "ipython",
    "version": 3
   },
   "file_extension": ".py",
   "mimetype": "text/x-python",
   "name": "python",
   "nbconvert_exporter": "python",
   "pygments_lexer": "ipython3",
   "version": "3.8.8"
  }
 },
 "nbformat": 4,
 "nbformat_minor": 5
}
