{
 "metadata": {
  "language_info": {
   "codemirror_mode": {
    "name": "ipython",
    "version": 3
   },
   "file_extension": ".py",
   "mimetype": "text/x-python",
   "name": "python",
   "nbconvert_exporter": "python",
   "pygments_lexer": "ipython3",
   "version": "3.8.10-final"
  },
  "orig_nbformat": 2,
  "kernelspec": {
   "name": "python3",
   "display_name": "Python 3"
  }
 },
 "nbformat": 4,
 "nbformat_minor": 2,
 "cells": [
  {
   "source": [
    "Exercise 1: Revise a previous program as follows: Read and parse the “From” lines and pull out the addresses from the line. Count the number of messages from each person using a dictionary.\n",
    "\n",
    "After all the data has been read, print the person with the most commits by creating a list of (count, email) tuples from the dictionary. Then sort the list in reverse order and print out the person who has the most commits.\n",
    "\n",
    "Sample Line:\n",
    "From stephen.marquard@uct.ac.za Sat Jan  5 09:14:16 2008\n",
    "\n",
    "Enter a file name: mbox-short.txt\n",
    "cwen@iupui.edu 5\n",
    "\n",
    "Enter a file name: mbox.txt\n",
    "zqian@umich.edu 195"
   ],
   "cell_type": "markdown",
   "metadata": {}
  },
  {
   "cell_type": "code",
   "execution_count": 26,
   "metadata": {},
   "outputs": [
    {
     "output_type": "stream",
     "name": "stdout",
     "text": [
      "04 3\n06 1\n07 1\n09 2\n10 3\n11 6\n14 1\n15 2\n16 4\n17 2\n18 1\n19 1\n"
     ]
    }
   ],
   "source": [
    "senders = dict()\n",
    "# prmpt = input('Enter file name')\n",
    "#open mail file with some error protections and a default\n",
    "prmpt = 'mbox-short.txt'\n",
    "if prmpt == '':\n",
    "    filepath = 'mbox-short.txt'\n",
    "else:\n",
    "   try:\n",
    "       filepath = prmpt\n",
    "   except:\n",
    "       print('file cant be opened defaulting to sample file')\n",
    "       filepath = 'mbox-short.txt'\n",
    "file = open(filepath)\n",
    "for line in file:\n",
    "    # print(line)\n",
    "    # for words in line:\n",
    "    words = line.split()\n",
    "    if len(words) == 0 or words[0] != 'From' or len(words) < 3 : \n",
    "            continue   \n",
    "    else: \n",
    "        senders[words[1]] = senders.get(words[1],0) + 1\n",
    "# print(senders)\n",
    "#sorting the dict by making a list with tuples then printing max of senders\n",
    "sortables = list()\n",
    "for addr, cnt in senders.items():\n",
    "    sortables.append((cnt, addr))\n",
    "#sorts from descending value of occurrences\n",
    "sortables.sort(reverse=True)\n",
    "# flipping cnt and addr reverses flow giving desired format\n",
    "for cnt, addr in sortables[:1]:\n",
    "    print(addr,cnt)"
   ]
  },
  {
   "source": [
    "Exercise 2: This program counts the distribution of the hour of the day for each of the messages. You can pull the hour from the “From” line by finding the time string and then splitting that string into parts using the colon character. Once you have accumulated the counts for each hour, print out the counts, one per line, sorted by hour as shown below.\n",
    "\n",
    "python timeofday.py\n",
    "Enter a file name: mbox-short.txt\n",
    "04 3\n",
    "06 1\n",
    "07 1\n",
    "09 2\n",
    "10 3\n",
    "11 6\n",
    "14 1\n",
    "15 2\n",
    "16 4\n",
    "17 2\n",
    "18 1\n",
    "19 1"
   ],
   "cell_type": "markdown",
   "metadata": {}
  },
  {
   "cell_type": "code",
   "execution_count": null,
   "metadata": {},
   "outputs": [],
   "source": [
    "time = dict()\n",
    "# prompt = input('Enter file1 name')\n",
    "#open mail file1 with some error protections and a default file1\n",
    "prompt = 'mbox-short.txt'\n",
    "if prompt == '':\n",
    "    fpth = 'mbox-short.txt'\n",
    "else:\n",
    "   try:\n",
    "       fpth = prompt\n",
    "   except:\n",
    "       print('file1 cant be opened defaulting to sample file1')\n",
    "       fpth = 'mbox-short.txt'\n",
    "file1 = open(fpth)\n",
    "# read file1 line for line split line into group of words with checking for from\n",
    "for line in file1:\n",
    "    words = line.split()\n",
    "    if len(words) == 0 or words[0] != 'From' or len(words) < 3 : \n",
    "            continue   \n",
    "    else: \n",
    "        hours = words[5][:2]\n",
    "        #add 2nd word in the line and get the count of occurances\n",
    "        time[hours] = time.get(hours,0) + 1\n",
    "#sorting the dict by making a list with tuples then printing max of time\n",
    "sortables = list()\n",
    "for hrs, occr in time.items():\n",
    "    sortables.append((hrs, occr))\n",
    "#sorts from descending value of occurrences\n",
    "sortables.sort()\n",
    "# flipping occr and hrs reverses flow giving desired format\n",
    "for hrs, occr in sortables:\n",
    "    print(hrs,occr)"
   ]
  },
  {
   "source": [
    "Exercise 3: Write a program that reads a file and prints the letters in decreasing order of frequency. Your program should convert all the input to lower case and only count the letters a-z. Your program should not count spaces, digits, punctuation, or anything other than the letters a-z. Find text samples from several different languages and see how letter frequency varies between languages. Compare your results with the tables at https://wikipedia.org/wiki/Letter_frequencies."
   ],
   "cell_type": "markdown",
   "metadata": {}
  }
 ]
}