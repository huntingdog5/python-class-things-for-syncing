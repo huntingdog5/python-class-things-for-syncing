{
 "cells": [
  {
   "cell_type": "raw",
   "id": "443333ec-0c64-45b5-9743-a30d09863f28",
   "metadata": {
    "tags": []
   },
   "source": [
    "Exercise 1: Write a function called chop that takes a list and modifies it, removing the first and last elements, and returns None. Then write a function called middle that takes a list and returns a new list that contains all but the first and last elements."
   ]
  },
  {
   "cell_type": "code",
   "execution_count": null,
   "id": "7f075b8f-b6cd-4132-b37e-74b16aa9cb5d",
   "metadata": {
    "tags": []
   },
   "outputs": [],
   "source": [
    "x = ['a','b','c','d']\n",
    "y = ['a','b','c','d']\n",
    "def chop(listval):\n",
    "    del listval [0]\n",
    "    del listval [-1]\n",
    "    return\n",
    "def middle(listval):\n",
    "    del listval [:1]\n",
    "    del listval [len(listval) -1:]\n",
    "    return listval\n",
    "\n",
    "print(chop(x))\n",
    "print(middle(y))\n"
   ]
  },
  {
   "cell_type": "raw",
   "id": "203f39b3-954a-4c83-946d-703d179a3ce5",
   "metadata": {
    "tags": []
   },
   "source": [
    "fhand = open('mbox-short.txt')\n",
    "count = 0\n",
    "for line in fhand:\n",
    "    words = line.split()\n",
    "    # print('Debug:', words)\n",
    "    if len(words) == 0 : continue\n",
    "    if words[0] != 'From' : continue\n",
    "    print(words[2])\n",
    "\n",
    "Exercise 2: Figure out which line of the above program is still not properly guarded. See if you can construct a text file which causes the program to fail and then modify the program so that the line is properly guarded and test it to make sure it handles your new text file.\n",
    "\n",
    "Exercise 3: Rewrite the guardian code in the above example without two if statements. Instead, use a compound logical expression using the or logical operator with a single if statement. \n",
    "done\n"
   ]
  },
  {
   "cell_type": "code",
   "execution_count": null,
   "id": "22fbf774-1b7a-4bbb-be97-52a5348abaca",
   "metadata": {
    "tags": []
   },
   "outputs": [],
   "source": [
    "fhand = open('mbox.txt')\n",
    "#count = 0\n",
    "for line in fhand:\n",
    "    words = line.split()\n",
    "    # print('Debug:', words)\n",
    "    if len(words) == 0 or words[0] != 'From' or len(words) < 3 : continue\n",
    "    print(words[2])"
   ]
  },
  {
   "cell_type": "raw",
   "id": "aea0b708-a145-49ab-991b-0585f767441a",
   "metadata": {
    "tags": []
   },
   "source": [
    "Exercise 4: Find all unique words in a file\n",
    "\n",
    "Shakespeare used over 20,000 words in his works. But how would you determine that? How would you produce the list of all the words that Shakespeare used? Would you download all his work, read it and track all unique words by hand?\n",
    "\n",
    "Let’s use Python to achieve that instead. List all unique words, sorted in alphabetical order, that are stored in a file romeo.txt containing a subset of Shakespeare’s work.\n",
    "\n",
    "To get started, download a copy of the file www.py4e.com/code3/romeo.txt. Create a list of unique words, which will contain the final result. Write a program to open the file romeo.txt and read it line by line. For each line, split the line into a list of words using the split function. For each word, check to see if the word is already in the list of unique words. If the word is not in the list of unique words, add it to the list. When the program completes, sort and print the list of unique words in alphabetical order."
   ]
  },
  {
   "cell_type": "code",
   "execution_count": 17,
   "id": "bb55a62a-4879-46e5-9c4d-628f38384530",
   "metadata": {
    "tags": []
   },
   "outputs": [
    {
     "name": "stdout",
     "output_type": "stream",
     "text": [
      "['Arise', 'But', 'It', 'Juliet', 'Who', 'already', 'and', 'breaks', 'east', 'envious', 'fair', 'grief', 'is', 'kill', 'light', 'moon', 'pale', 'sick', 'soft', 'sun', 'the', 'through', 'what', 'window', 'with', 'yonder']\n"
     ]
    }
   ],
   "source": [
    "wordbank = []\n",
    "fhand = open('romeo.txt')\n",
    "for line in fhand:\n",
    "    words = line.split()\n",
    "   # print('Debug:', words)\n",
    "    for thing in words:\n",
    "        if thing not in wordbank : wordbank.append(thing)\n",
    "   #    print('Debug:', wordbank)\n",
    "    \n",
    "wordbank.sort()        \n",
    "print(wordbank)"
   ]
  },
  {
   "cell_type": "raw",
   "id": "02d2e704-e5d6-47ee-9d8e-7a178ea808e5",
   "metadata": {
    "tags": []
   },
   "source": [
    "Exercise 5: Minimalist Email Client.\n",
    "\n",
    "MBOX (mail box) is a popular file format to store and share a collection of emails. This was used by early email servers and desktop apps. Without getting into too many details, MBOX is a text file, which stores emails consecutively. Emails are separated by a special line which starts with From (notice the space). Importantly, lines starting with From: (notice the colon) describes the email itself and does not act as a separator. Imagine you wrote a minimalist email app, that lists the email of the senders in the user’s Inbox and counts the number of emails.\n",
    "\n",
    "Write a program to read through the mail box data and when you find line that starts with “From”, you will split the line into words using the split function. We are interested in who sent the message, which is the second word on the From line.\n",
    "\n",
    "From stephen.marquard@uct.ac.za Sat Jan 5 09:14:16 2008\n",
    "\n",
    "You will parse the From line and print out the second word for each From line, then you will also count the number of From (not From:) lines and print out a count at the end. This is a good sample output with a few lines removed:\n",
    "    "
   ]
  },
  {
   "cell_type": "code",
   "execution_count": 19,
   "id": "94a29eea-ff51-4a90-adbc-b9e1d49d0c22",
   "metadata": {
    "tags": []
   },
   "outputs": [
    {
     "name": "stdout",
     "output_type": "stream",
     "text": [
      "stephen.marquard@uct.ac.za\n",
      "louis@media.berkeley.edu\n",
      "zqian@umich.edu\n",
      "rjlowe@iupui.edu\n",
      "zqian@umich.edu\n",
      "rjlowe@iupui.edu\n",
      "cwen@iupui.edu\n",
      "cwen@iupui.edu\n",
      "gsilver@umich.edu\n",
      "gsilver@umich.edu\n",
      "zqian@umich.edu\n",
      "gsilver@umich.edu\n",
      "wagnermr@iupui.edu\n",
      "zqian@umich.edu\n",
      "antranig@caret.cam.ac.uk\n",
      "gopal.ramasammycook@gmail.com\n",
      "david.horwitz@uct.ac.za\n",
      "david.horwitz@uct.ac.za\n",
      "david.horwitz@uct.ac.za\n",
      "david.horwitz@uct.ac.za\n",
      "stephen.marquard@uct.ac.za\n",
      "louis@media.berkeley.edu\n",
      "louis@media.berkeley.edu\n",
      "ray@media.berkeley.edu\n",
      "cwen@iupui.edu\n",
      "cwen@iupui.edu\n",
      "cwen@iupui.edu\n",
      "There were 27 lines in the file with From as the first word\n"
     ]
    }
   ],
   "source": [
    "fhand = open('mbox-short.txt')\n",
    "count = 0\n",
    "for line in fhand:\n",
    "    words = line.split()\n",
    "    # print('Debug:', words)\n",
    "    if len(words) == 0 or words[0] != 'From' or len(words) < 3 : continue\n",
    "    print(words[1])\n",
    "    count = count +1\n",
    "    \n",
    "print('There were {} lines in the file with From as the first word'.format(count))"
   ]
  },
  {
   "cell_type": "raw",
   "id": "d7fb7da0-f719-4af9-8171-0ff6aab02728",
   "metadata": {
    "tags": []
   },
   "source": [
    "Exercise 6: Rewrite the program that prompts the user for a list of numbers and prints out the maximum and minimum of the numbers at the end when the user enters “done”. Write the program to store the numbers the user enters in a list and use the max() and min() functions to compute the maximum and minimum numbers after the loop completes.\n",
    "\n",
    "listA = []\n",
    "fval = 0\n",
    "largest = None\n",
    "smallest = None\n",
    "while True:\n",
    " line = input('>>>>owo>>>> ')\n",
    " if line == 'done': \n",
    "  break\n",
    " try:\n",
    "  Ival = int(line)\n",
    "  listA.append(Ival)\n",
    "  print(listA)\n",
    "  \n",
    " except:\n",
    "  print('Invalid Input')\n",
    "  continue\n",
    "largest = max(listA)\n",
    "smallest = min(listA)\n",
    "print('Maximum is {}'.format(largest))\n",
    "print('Minimum is {}'.format(smallest))"
   ]
  }
 ],
 "metadata": {
  "kernelspec": {
   "display_name": "Python 3",
   "language": "python",
   "name": "python3"
  },
  "language_info": {
   "codemirror_mode": {
    "name": "ipython",
    "version": 3
   },
   "file_extension": ".py",
   "mimetype": "text/x-python",
   "name": "python",
   "nbconvert_exporter": "python",
   "pygments_lexer": "ipython3",
   "version": "3.8.8"
  }
 },
 "nbformat": 4,
 "nbformat_minor": 5
}
