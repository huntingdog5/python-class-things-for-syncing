{
 "cells": [
  {
   "cell_type": "code",
   "execution_count": 2,
   "id": "0dbfa36d-1920-4a56-a41c-c78a0a6a6452",
   "metadata": {},
   "outputs": [],
   "source": [
    "text = \"X-DSPAM-Confidence:    0.8475\""
   ]
  },
  {
   "cell_type": "code",
   "execution_count": 3,
   "id": "50735d6a-f051-4b21-b80a-da1e35576a17",
   "metadata": {},
   "outputs": [
    {
     "name": "stdout",
     "output_type": "stream",
     "text": [
      "0.8475\n"
     ]
    }
   ],
   "source": [
    "num = text.find(\"0\")\n",
    "fval = (text[num:])\n",
    "print(float(fval))"
   ]
  }
 ],
 "metadata": {
  "kernelspec": {
   "display_name": "Python 3.8 (XPython)",
   "language": "python",
   "name": "xpython"
  },
  "language_info": {
   "file_extension": ".py",
   "mimetype": "text/x-python",
   "name": "python",
   "version": "3.8.10"
  }
 },
 "nbformat": 4,
 "nbformat_minor": 5
}
