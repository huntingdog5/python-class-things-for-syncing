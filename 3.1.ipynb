{
 "cells": [
  {
   "cell_type": "raw",
   "id": "57154a20-8bf3-4c95-9fce-9a32d5a2b8ba",
   "metadata": {},
   "source": [
    "Exercise 1: Rewrite your pay computation to give the employee 1.5 times the hourly rate for hours worked above 40 hours.\n",
    "\n",
    "Enter Hours: 45\n",
    "Enter Rate: 10\n",
    "Pay: 475.0"
   ]
  },
  {
   "cell_type": "raw",
   "id": "718ebd7a-f4b8-4c7c-98b0-733dd9a3f7b8",
   "metadata": {},
   "source": [
    "Original programs"
   ]
  },
  {
   "cell_type": "code",
   "execution_count": null,
   "id": "175976a3-09e2-4e66-96c4-960a82cf46c3",
   "metadata": {},
   "outputs": [],
   "source": [
    "hrs = input(\"Enter Hours:\")\n",
    "rt = input(\"Enter Hourly Rate:\")\n",
    "pay = (int(hrs)*float(rt))\n",
    "print(\"Pay:\", pay)"
   ]
  },
  {
   "cell_type": "raw",
   "id": "8e0d84c4-1ecf-4d68-a134-94746196ae84",
   "metadata": {},
   "source": [
    "Attempts"
   ]
  },
  {
   "cell_type": "code",
   "execution_count": 1,
   "id": "e0b22a47-95b1-4d99-b8ad-714b3cf82159",
   "metadata": {
    "collapsed": true,
    "jupyter": {
     "outputs_hidden": true
    },
    "tags": []
   },
   "outputs": [
    {
     "ename": "SyntaxError",
     "evalue": "invalid syntax (<ipython-input-1-3ca2ebe6a7cd>, line 14)",
     "output_type": "error",
     "traceback": [
      "\u001b[0;36m  File \u001b[0;32m\"<ipython-input-1-3ca2ebe6a7cd>\"\u001b[0;36m, line \u001b[0;32m14\u001b[0m\n\u001b[0;31m    print(pay)\u001b[0m\n\u001b[0m    ^\u001b[0m\n\u001b[0;31mSyntaxError\u001b[0m\u001b[0;31m:\u001b[0m invalid syntax\n"
     ]
    }
   ],
   "source": [
    "hrs = input(\"Enter things: \")\n",
    "h = float(hrs)\n",
    "hrt = input(\"ENTER THE PAY: \")\n",
    "rt = float(hrt)\n",
    "pay = 0\n",
    "\n",
    "#if statements to check if hours is above then do the math for payscale\n",
    "if h<=40:\n",
    " pay = float(h*rt)   \n",
    "else:\n",
    " pay = float(rt(1.5(h-40)+40*rt)\n",
    "    \n",
    "#the final    \n",
    "print(pay)\n",
    "             "
   ]
  },
  {
   "cell_type": "raw",
   "id": "84c08d4c-2edf-4678-adee-2f8dd1f3ae48",
   "metadata": {},
   "source": [
    "sytanx error is from the floating\n",
    "when that is fixed only an error occurs because of the lack of operators for the equation causing a fail"
   ]
  },
  {
   "cell_type": "code",
   "execution_count": 8,
   "id": "71d8b4d7-5a9c-4121-b99a-3b44ffe8f41d",
   "metadata": {
    "tags": []
   },
   "outputs": [
    {
     "name": "stdin",
     "output_type": "stream",
     "text": [
      "Enter things:  1\n",
      "ENTER THE PAY:  3\n"
     ]
    },
    {
     "name": "stdout",
     "output_type": "stream",
     "text": [
      "3.0\n"
     ]
    }
   ],
   "source": [
    "hrs = input(\"Enter hours: \")\n",
    "h = float(hrs)\n",
    "hrt = input(\"ENTER THE PAY: \")\n",
    "rt = float(hrt)\n",
    "\n",
    "\n",
    "#if statements to check if hours is above then do the math for payscale\n",
    "if h<=40:\n",
    " pay = h*rt  \n",
    "else:\n",
    " pay = (rt*1.5)*(h-40)+40*rt\n",
    "      \n",
    "print(pay)\n",
    "\n"
   ]
  },
  {
   "cell_type": "code",
   "execution_count": 3,
   "id": "e15ec28f-ce7e-4253-a56c-d4c0047b9f96",
   "metadata": {
    "tags": []
   },
   "outputs": [
    {
     "name": "stdin",
     "output_type": "stream",
     "text": [
      "Enter hours:  nopers\n",
      "ENTER THE PAY:  nopers\n"
     ]
    },
    {
     "name": "stdout",
     "output_type": "stream",
     "text": [
      "hi flop\n"
     ]
    }
   ],
   "source": [
    "hrs = input(\"Enter hours: \")\n",
    "hrt = input(\"ENTER THE PAY: \")\n",
    "\n",
    "#if statements to check if hours is above then do the math for payscale\n",
    "try:\n",
    " h = float(hrs)\n",
    " rt = float(hrt)\n",
    " if h<=40:\n",
    "  pay = h*rt  \n",
    " else:\n",
    "  pay = (rt*1.5)*(h-40)+40*rt\n",
    " print(pay)\n",
    "except:\n",
    " print(\"hi flop enter an actual number\")\n",
    "\n"
   ]
  },
  {
   "cell_type": "code",
   "execution_count": null,
   "id": "4e2196b3-149e-40e6-84a6-508591d79d33",
   "metadata": {},
   "outputs": [],
   "source": []
  }
 ],
 "metadata": {
  "kernelspec": {
   "display_name": "Python 3.8 (XPython)",
   "language": "python",
   "name": "xpython"
  },
  "language_info": {
   "file_extension": ".py",
   "mimetype": "text/x-python",
   "name": "python",
   "version": "3.8.10"
  }
 },
 "nbformat": 4,
 "nbformat_minor": 5
}
